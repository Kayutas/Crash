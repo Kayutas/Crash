{
 "cells": [
  {
   "cell_type": "code",
   "execution_count": 5,
   "metadata": {},
   "outputs": [
    {
     "name": "stdout",
     "output_type": "stream",
     "text": [
      "The alien is green.\n",
      "The alien is green.\n",
      "The alien is green.\n"
     ]
    }
   ],
   "source": [
    "alien_0 = {'color': 'green'}\n",
    "\n",
    "print(f\"The alien is {alien_0['color']}.\")\n",
    "print(\"The alien is \" + alien_0['color'] + \".\")\n",
    "print(\"The alien is {}.\".format(alien_0['color']))"
   ]
  },
  {
   "cell_type": "code",
   "execution_count": 3,
   "metadata": {},
   "outputs": [
    {
     "name": "stdout",
     "output_type": "stream",
     "text": [
      "The alien is green.\n",
      "The alien is yellow.\n"
     ]
    }
   ],
   "source": [
    "alien_0 = {'color' : 'green'}\n",
    "\n",
    "print(f\"The alien is {alien_0['color']}.\")\n",
    "alien_0['color'] = 'yellow'\n",
    "print(f\"The alien is {alien_0['color']}.\")\n"
   ]
  },
  {
   "cell_type": "code",
   "execution_count": 1,
   "metadata": {},
   "outputs": [
    {
     "name": "stdout",
     "output_type": "stream",
     "text": [
      "Original x-position: 0\n",
      "Original y-position: 25\n",
      "New position: 3\n"
     ]
    }
   ],
   "source": [
    "alien_0 = {'x_position' : 0, 'y_position' : 25, 'speed' : 'medium'}\n",
    "\n",
    "print(f\"Original x-position: {alien_0['x_position']}\")\n",
    "#me added\n",
    "print(\"Original y-position: \" + str(alien_0['y_position']))\n",
    "\n",
    "alien_0['speed'] = 'fast'\n",
    "# Move the alien to the right.\n",
    "# Determine how far to move the alien based on its current speed.\n",
    "if alien_0['speed'] == 'slow' :\n",
    "    x_increment = 1\n",
    "elif alien_0['speed'] == 'medium' :\n",
    "    x_increment = 2\n",
    "else :\n",
    "    # This must be a fast alien.\n",
    "    x_increment = 3 \n",
    "\n",
    "# The new position is the old position plus the increment.\n",
    "alien_0['x_position'] = alien_0['x_position'] + x_increment\n",
    "print(f\"New position: {alien_0['x_position']}\")\n",
    "\n",
    "    "
   ]
  },
  {
   "cell_type": "code",
   "execution_count": 14,
   "metadata": {},
   "outputs": [
    {
     "name": "stdout",
     "output_type": "stream",
     "text": [
      "{'color': 'green', 'points': 5}\n",
      "{'color': 'green'}\n"
     ]
    }
   ],
   "source": [
    "alien_0 = {'color' : 'green', 'points' : 5}\n",
    "\n",
    "print(alien_0)\n",
    "\n",
    "del alien_0['points']\n",
    "print(alien_0)\n"
   ]
  },
  {
   "cell_type": "code",
   "execution_count": 3,
   "metadata": {},
   "outputs": [
    {
     "name": "stdout",
     "output_type": "stream",
     "text": [
      "Original x-position: 0\n",
      "Original y-position: 25\n",
      "New position: 2\n",
      "Original x-position: 2\n",
      "Original y-position: 25\n",
      "New position: 5\n"
     ]
    }
   ],
   "source": [
    "def move_alien(alien):\n",
    "    \"\"\"\n",
    "    Move the alien to the right based on its speed.\n",
    "\n",
    "    Parameters:\n",
    "    alien (dict): A dictionary containing the alien's position and speed.\n",
    "\n",
    "    Returns:\n",
    "    None: The function modifies the alien dictionary in place.\n",
    "    \"\"\"\n",
    "    print(f\"Original x-position: {alien['x_position']}\")\n",
    "    print(\"Original y-position: \" + str(alien['y_position']))\n",
    "\n",
    "    # Determine how far to move the alien based on its speed\n",
    "    if alien['speed'] == 'slow':\n",
    "        x_increment = 1\n",
    "    elif alien['speed'] == 'medium':\n",
    "        x_increment = 2\n",
    "    else:\n",
    "        # This must be a fast alien\n",
    "        x_increment = 3\n",
    "\n",
    "    # Update the alien's position\n",
    "    alien['x_position'] += x_increment\n",
    "    print(f\"New position: {alien['x_position']}\")\n",
    "\n",
    "# Define the alien dictionary\n",
    "alien_0 = {'x_position': 0, 'y_position': 25, 'speed': 'medium'}\n",
    "\n",
    "# Test the function\n",
    "move_alien(alien_0)\n",
    "\n",
    "# Change speed and test again\n",
    "alien_0['speed'] = 'fast'\n",
    "move_alien(alien_0)\n"
   ]
  },
  {
   "cell_type": "code",
   "execution_count": 1,
   "metadata": {},
   "outputs": [
    {
     "ename": "KeyError",
     "evalue": "'points'",
     "output_type": "error",
     "traceback": [
      "\u001b[1;31m---------------------------------------------------------------------------\u001b[0m",
      "\u001b[1;31mKeyError\u001b[0m                                  Traceback (most recent call last)",
      "Cell \u001b[1;32mIn[1], line 2\u001b[0m\n\u001b[0;32m      1\u001b[0m alien_0 \u001b[38;5;241m=\u001b[39m {\u001b[38;5;124m'\u001b[39m\u001b[38;5;124mcolor\u001b[39m\u001b[38;5;124m'\u001b[39m : \u001b[38;5;124m'\u001b[39m\u001b[38;5;124mgreen\u001b[39m\u001b[38;5;124m'\u001b[39m, \u001b[38;5;124m'\u001b[39m\u001b[38;5;124mspeed\u001b[39m\u001b[38;5;124m'\u001b[39m : \u001b[38;5;124m'\u001b[39m\u001b[38;5;124mslow\u001b[39m\u001b[38;5;124m'\u001b[39m}\n\u001b[1;32m----> 2\u001b[0m \u001b[38;5;28mprint\u001b[39m(\u001b[43malien_0\u001b[49m\u001b[43m[\u001b[49m\u001b[38;5;124;43m'\u001b[39;49m\u001b[38;5;124;43mpoints\u001b[39;49m\u001b[38;5;124;43m'\u001b[39;49m\u001b[43m]\u001b[49m)\n",
      "\u001b[1;31mKeyError\u001b[0m: 'points'"
     ]
    }
   ],
   "source": [
    "alien_0 = {'color' : 'green', 'speed' : 'slow'}\n",
    "print(alien_0['points'])\n"
   ]
  },
  {
   "cell_type": "code",
   "execution_count": 2,
   "metadata": {},
   "outputs": [
    {
     "name": "stdout",
     "output_type": "stream",
     "text": [
      "No point value assigned.\n"
     ]
    }
   ],
   "source": [
    "alien_0 = {'color' : 'green', 'speed' : 'slow'}\n",
    "point_value = alien_0.get('points', 'No point value assigned.')\n",
    "print(point_value)"
   ]
  },
  {
   "cell_type": "code",
   "execution_count": 3,
   "metadata": {},
   "outputs": [
    {
     "name": "stdout",
     "output_type": "stream",
     "text": [
      "First Name: Alice\n",
      "Last Name: Johnson\n",
      "Age: 28\n",
      "City: New York\n"
     ]
    }
   ],
   "source": [
    "# Dictionary to store information about a person\n",
    "person = {\n",
    "    'first_name': 'Alice',\n",
    "    'last_name': 'Johnson',\n",
    "    'age': 28,\n",
    "    'city': 'New York'\n",
    "}\n",
    "\n",
    "# Print each piece of information stored in the dictionary\n",
    "print(\"First Name:\", person['first_name'])\n",
    "print(\"Last Name:\", person['last_name'])\n",
    "print(\"Age:\", person['age'])\n",
    "print(\"City:\", person['city'])\n"
   ]
  },
  {
   "cell_type": "code",
   "execution_count": 5,
   "metadata": {},
   "outputs": [
    {
     "name": "stdout",
     "output_type": "stream",
     "text": [
      "Joe's favorite number is 4.\n",
      "ben's favorite number is 1.\n",
      "Alex's favorite number is 2.\n",
      "bob's favorite number is 3.\n",
      "joe's favorite number is 4.\n",
      "jane's favorite number is 5.\n"
     ]
    }
   ],
   "source": [
    "favorite_numbers = {\n",
    "    'ben' : '1',\n",
    "    'Alex' : '2',\n",
    "    'bob' : '3',\n",
    "    'joe' : '4',\n",
    "    'jane' : '5',\n",
    "}\n",
    "\n",
    "number = favorite_numbers['joe']\n",
    "print(f\"Joe's favorite number is {number}.\")\n",
    "\n",
    "\n",
    "for name, numbers in favorite_numbers.items():\n",
    "    print(f\"{name}'s favorite number is {numbers}.\")\n",
    "\n"
   ]
  },
  {
   "cell_type": "code",
   "execution_count": 6,
   "metadata": {},
   "outputs": [
    {
     "name": "stdout",
     "output_type": "stream",
     "text": [
      "list: a collection of items in a particular order\n",
      "tuple: an ordered collection of items\n",
      "dictionary: a collection of key-value pairs\n",
      "set: a collection of unique items\n",
      "string: a series of characters\n"
     ]
    }
   ],
   "source": [
    "glossary = {\n",
    "    'list' : 'a collection of items in a particular order',\n",
    "    'tuple' : 'an ordered collection of items',\n",
    "    'dictionary' : 'a collection of key-value pairs',\n",
    "    'set' : 'a collection of unique items',\n",
    "    'string' : 'a series of characters',\n",
    "}\n",
    "\n",
    "for word, definition in glossary.items():\n",
    "    print(f\"{word}: {definition}\")\n",
    "\n"
   ]
  },
  {
   "cell_type": "code",
   "execution_count": 7,
   "metadata": {},
   "outputs": [
    {
     "name": "stdout",
     "output_type": "stream",
     "text": [
      "List:\n",
      "  a collection of items in a particular order\n",
      "\n",
      "Tuple:\n",
      "  an ordered collection of items\n",
      "\n",
      "Dictionary:\n",
      "  a collection of key-value pairs\n",
      "\n",
      "Set:\n",
      "  a collection of unique items\n",
      "\n",
      "String:\n",
      "  a series of characters\n",
      "\n"
     ]
    }
   ],
   "source": [
    "# Glossary of terms\n",
    "glossary = {\n",
    "    'list': 'a collection of items in a particular order',\n",
    "    'tuple': 'an ordered collection of items',\n",
    "    'dictionary': 'a collection of key-value pairs',\n",
    "    'set': 'a collection of unique items',\n",
    "    'string': 'a series of characters',\n",
    "}\n",
    "\n",
    "# Loop through the glossary and print each word with its meaning\n",
    "for word, meaning in glossary.items():\n",
    "    print(f\"{word.capitalize()}:\\n  {meaning}\\n\")\n"
   ]
  }
 ],
 "metadata": {
  "kernelspec": {
   "display_name": "env",
   "language": "python",
   "name": "python3"
  },
  "language_info": {
   "codemirror_mode": {
    "name": "ipython",
    "version": 3
   },
   "file_extension": ".py",
   "mimetype": "text/x-python",
   "name": "python",
   "nbconvert_exporter": "python",
   "pygments_lexer": "ipython3",
   "version": "3.12.5"
  }
 },
 "nbformat": 4,
 "nbformat_minor": 2
}
